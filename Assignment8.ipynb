{
 "cells": [
  {
   "cell_type": "markdown",
   "id": "4f8d3ccc-6312-4519-a155-81bfffc2ca37",
   "metadata": {},
   "source": [
    "# Assignment 8 - Network Analysis"
   ]
  },
  {
   "cell_type": "markdown",
   "id": "3027f278-efd1-4a1a-bc7d-03e05b66e179",
   "metadata": {},
   "source": [
    "Spurthi Rallapalli, DH 140 W22"
   ]
  },
  {
   "cell_type": "markdown",
   "id": "3665e25a-d9bb-461c-9c17-2a5aef387828",
   "metadata": {},
   "source": [
    "### **Step 1: Make a new Jupyter notebook.** Done :) "
   ]
  },
  {
   "cell_type": "markdown",
   "id": "84beb605-0c07-4887-8697-9bb16bea9c43",
   "metadata": {},
   "source": [
    "### **Step 2: Take the Shakespeare play you've previously been analyzing and construct a network visualization.**"
   ]
  },
  {
   "cell_type": "markdown",
   "id": "3c70c474-679f-4805-8a80-71cdd1fb5bcb",
   "metadata": {},
   "source": [
    "I will be analyzing Romeo and Juliet for this assignment. I already have the file uploaded from a previous assignment, but I will have to do some cleaning like in the videos. "
   ]
  },
  {
   "cell_type": "code",
   "execution_count": 1,
   "id": "6ffd252f-4c43-4ab3-9c48-9e0055150fc1",
   "metadata": {},
   "outputs": [],
   "source": [
    "with open('RomeoandJuliet.txt') as f:\n",
    "    x = f.read()"
   ]
  },
  {
   "cell_type": "code",
   "execution_count": 3,
   "id": "798121af-9274-4d8a-9f99-6dc4f1ce377f",
   "metadata": {},
   "outputs": [],
   "source": [
    "# At the beginning of the play, there are a list of characters called Dramatis Personæ, copied and pasted here\n",
    "\n",
    "characters = [\n",
    "    'ESCALUS',\n",
    "    'MERCUTIO',\n",
    "    'PARIS',\n",
    "    'MONTAGUE',\n",
    "    'LADY MONTAGUE',\n",
    "    'ROMEO',\n",
    "    'BENVOLIO',\n",
    "    'ABRAM',\n",
    "    'BALTHASAR',\n",
    "    'CAPULET',\n",
    "    'LADY CAPULET',\n",
    "    'JULIET',\n",
    "    'TYBALT',\n",
    "    'CAPULET’S COUSIN',\n",
    "    'NURSE',\n",
    "    'PETER',\n",
    "    'SAMPSON',\n",
    "    'GREGORY',\n",
    "    'FRIAR LAWRENCE',\n",
    "    'CHORUS',\n",
    "    'SERVANT'\n",
    "]"
   ]
  },
  {
   "cell_type": "code",
   "execution_count": 4,
   "id": "eb55305f-c29a-4285-972d-6b34720fae0e",
   "metadata": {},
   "outputs": [],
   "source": [
    "# Figure out how many acts are in the play\n",
    "acts = x.split('ACT')[6:]"
   ]
  },
  {
   "cell_type": "code",
   "execution_count": 7,
   "id": "1a616eaf-31a5-4f6e-a0cf-98328b668253",
   "metadata": {},
   "outputs": [
    {
     "data": {
      "text/plain": [
       "5"
      ]
     },
     "execution_count": 7,
     "metadata": {},
     "output_type": "execute_result"
    }
   ],
   "source": [
    "# Find the number of acts\n",
    "len(acts)"
   ]
  },
  {
   "cell_type": "markdown",
   "id": "b0f5a1a4-9402-431f-abf4-c629174a82f3",
   "metadata": {},
   "source": [
    "I double checked this number with Google, and this number is accurate. "
   ]
  },
  {
   "cell_type": "code",
   "execution_count": 9,
   "id": "c96c3ae0-bb57-4b69-bb46-2e2c95b2edae",
   "metadata": {},
   "outputs": [],
   "source": [
    "# Using the same code as what is in the lectures\n",
    "# Will use this to find the number of connections per neighbor\n",
    "\n",
    "charnum = {}\n",
    "\n",
    "connections = {}\n",
    "for i in range(len(characters)-1):\n",
    "    for j in range(i+1,len(characters)):\n",
    "        connections[(characters[i],characters[j])] = 0\n",
    "\n",
    "for k in characters:\n",
    "    charnum[k] = 0\n",
    "\n",
    "for i in acts:\n",
    "    for j in i.split('SCENE')[1:]:\n",
    "        scenechars = []\n",
    "        for k in characters:\n",
    "            if j.find(k) != -1:\n",
    "                scenechars.append(k)\n",
    "                charnum[k] += 1\n",
    "        for a in range(len(scenechars)-1):\n",
    "            for b in range(a+1,len(scenechars)):\n",
    "                connections[(scenechars[a],scenechars[b])] += 1"
   ]
  },
  {
   "cell_type": "code",
   "execution_count": 10,
   "id": "b6d90ddd-ef82-46c9-aaba-669774b9d5fd",
   "metadata": {},
   "outputs": [
    {
     "data": {
      "text/plain": [
       "{'ESCALUS': 0,\n",
       " 'MERCUTIO': 4,\n",
       " 'PARIS': 5,\n",
       " 'MONTAGUE': 3,\n",
       " 'LADY MONTAGUE': 1,\n",
       " 'ROMEO': 14,\n",
       " 'BENVOLIO': 7,\n",
       " 'ABRAM': 1,\n",
       " 'BALTHASAR': 2,\n",
       " 'CAPULET': 12,\n",
       " 'LADY CAPULET': 10,\n",
       " 'JULIET': 11,\n",
       " 'TYBALT': 3,\n",
       " 'CAPULET’S COUSIN': 1,\n",
       " 'NURSE': 11,\n",
       " 'PETER': 2,\n",
       " 'SAMPSON': 1,\n",
       " 'GREGORY': 1,\n",
       " 'FRIAR LAWRENCE': 7,\n",
       " 'CHORUS': 0,\n",
       " 'SERVANT': 5}"
      ]
     },
     "execution_count": 10,
     "metadata": {},
     "output_type": "execute_result"
    }
   ],
   "source": [
    "charnum"
   ]
  },
  {
   "cell_type": "markdown",
   "id": "3245e195-4b4e-4727-a5c0-69e8fa2d593e",
   "metadata": {},
   "source": [
    "I checked the ones which had 0s with the play, and they make sense, ESCALUS is a character but never speaks, and the chorus does have a speaking part, but does not seem to be within a scene. "
   ]
  },
  {
   "cell_type": "code",
   "execution_count": 11,
   "id": "eb3f7e3f-cda5-4191-a909-6a65f8fb10e2",
   "metadata": {
    "collapsed": true,
    "jupyter": {
     "outputs_hidden": true
    },
    "tags": []
   },
   "outputs": [
    {
     "data": {
      "text/plain": [
       "{('ESCALUS', 'MERCUTIO'): 0,\n",
       " ('ESCALUS', 'PARIS'): 0,\n",
       " ('ESCALUS', 'MONTAGUE'): 0,\n",
       " ('ESCALUS', 'LADY MONTAGUE'): 0,\n",
       " ('ESCALUS', 'ROMEO'): 0,\n",
       " ('ESCALUS', 'BENVOLIO'): 0,\n",
       " ('ESCALUS', 'ABRAM'): 0,\n",
       " ('ESCALUS', 'BALTHASAR'): 0,\n",
       " ('ESCALUS', 'CAPULET'): 0,\n",
       " ('ESCALUS', 'LADY CAPULET'): 0,\n",
       " ('ESCALUS', 'JULIET'): 0,\n",
       " ('ESCALUS', 'TYBALT'): 0,\n",
       " ('ESCALUS', 'CAPULET’S COUSIN'): 0,\n",
       " ('ESCALUS', 'NURSE'): 0,\n",
       " ('ESCALUS', 'PETER'): 0,\n",
       " ('ESCALUS', 'SAMPSON'): 0,\n",
       " ('ESCALUS', 'GREGORY'): 0,\n",
       " ('ESCALUS', 'FRIAR LAWRENCE'): 0,\n",
       " ('ESCALUS', 'CHORUS'): 0,\n",
       " ('ESCALUS', 'SERVANT'): 0,\n",
       " ('MERCUTIO', 'PARIS'): 0,\n",
       " ('MERCUTIO', 'MONTAGUE'): 1,\n",
       " ('MERCUTIO', 'LADY MONTAGUE'): 0,\n",
       " ('MERCUTIO', 'ROMEO'): 4,\n",
       " ('MERCUTIO', 'BENVOLIO'): 4,\n",
       " ('MERCUTIO', 'ABRAM'): 0,\n",
       " ('MERCUTIO', 'BALTHASAR'): 0,\n",
       " ('MERCUTIO', 'CAPULET'): 1,\n",
       " ('MERCUTIO', 'LADY CAPULET'): 1,\n",
       " ('MERCUTIO', 'JULIET'): 0,\n",
       " ('MERCUTIO', 'TYBALT'): 1,\n",
       " ('MERCUTIO', 'CAPULET’S COUSIN'): 0,\n",
       " ('MERCUTIO', 'NURSE'): 1,\n",
       " ('MERCUTIO', 'PETER'): 1,\n",
       " ('MERCUTIO', 'SAMPSON'): 0,\n",
       " ('MERCUTIO', 'GREGORY'): 0,\n",
       " ('MERCUTIO', 'FRIAR LAWRENCE'): 0,\n",
       " ('MERCUTIO', 'CHORUS'): 0,\n",
       " ('MERCUTIO', 'SERVANT'): 0,\n",
       " ('PARIS', 'MONTAGUE'): 1,\n",
       " ('PARIS', 'LADY MONTAGUE'): 0,\n",
       " ('PARIS', 'ROMEO'): 2,\n",
       " ('PARIS', 'BENVOLIO'): 1,\n",
       " ('PARIS', 'ABRAM'): 0,\n",
       " ('PARIS', 'BALTHASAR'): 1,\n",
       " ('PARIS', 'CAPULET'): 4,\n",
       " ('PARIS', 'LADY CAPULET'): 3,\n",
       " ('PARIS', 'JULIET'): 2,\n",
       " ('PARIS', 'TYBALT'): 0,\n",
       " ('PARIS', 'CAPULET’S COUSIN'): 0,\n",
       " ('PARIS', 'NURSE'): 1,\n",
       " ('PARIS', 'PETER'): 1,\n",
       " ('PARIS', 'SAMPSON'): 0,\n",
       " ('PARIS', 'GREGORY'): 0,\n",
       " ('PARIS', 'FRIAR LAWRENCE'): 3,\n",
       " ('PARIS', 'CHORUS'): 0,\n",
       " ('PARIS', 'SERVANT'): 1,\n",
       " ('MONTAGUE', 'LADY MONTAGUE'): 1,\n",
       " ('MONTAGUE', 'ROMEO'): 3,\n",
       " ('MONTAGUE', 'BENVOLIO'): 2,\n",
       " ('MONTAGUE', 'ABRAM'): 1,\n",
       " ('MONTAGUE', 'BALTHASAR'): 1,\n",
       " ('MONTAGUE', 'CAPULET'): 3,\n",
       " ('MONTAGUE', 'LADY CAPULET'): 3,\n",
       " ('MONTAGUE', 'JULIET'): 1,\n",
       " ('MONTAGUE', 'TYBALT'): 2,\n",
       " ('MONTAGUE', 'CAPULET’S COUSIN'): 0,\n",
       " ('MONTAGUE', 'NURSE'): 0,\n",
       " ('MONTAGUE', 'PETER'): 0,\n",
       " ('MONTAGUE', 'SAMPSON'): 1,\n",
       " ('MONTAGUE', 'GREGORY'): 1,\n",
       " ('MONTAGUE', 'FRIAR LAWRENCE'): 1,\n",
       " ('MONTAGUE', 'CHORUS'): 0,\n",
       " ('MONTAGUE', 'SERVANT'): 0,\n",
       " ('LADY MONTAGUE', 'ROMEO'): 1,\n",
       " ('LADY MONTAGUE', 'BENVOLIO'): 1,\n",
       " ('LADY MONTAGUE', 'ABRAM'): 1,\n",
       " ('LADY MONTAGUE', 'BALTHASAR'): 0,\n",
       " ('LADY MONTAGUE', 'CAPULET'): 1,\n",
       " ('LADY MONTAGUE', 'LADY CAPULET'): 1,\n",
       " ('LADY MONTAGUE', 'JULIET'): 0,\n",
       " ('LADY MONTAGUE', 'TYBALT'): 1,\n",
       " ('LADY MONTAGUE', 'CAPULET’S COUSIN'): 0,\n",
       " ('LADY MONTAGUE', 'NURSE'): 0,\n",
       " ('LADY MONTAGUE', 'PETER'): 0,\n",
       " ('LADY MONTAGUE', 'SAMPSON'): 1,\n",
       " ('LADY MONTAGUE', 'GREGORY'): 1,\n",
       " ('LADY MONTAGUE', 'FRIAR LAWRENCE'): 0,\n",
       " ('LADY MONTAGUE', 'CHORUS'): 0,\n",
       " ('LADY MONTAGUE', 'SERVANT'): 0,\n",
       " ('ROMEO', 'BENVOLIO'): 7,\n",
       " ('ROMEO', 'ABRAM'): 1,\n",
       " ('ROMEO', 'BALTHASAR'): 2,\n",
       " ('ROMEO', 'CAPULET'): 6,\n",
       " ('ROMEO', 'LADY CAPULET'): 4,\n",
       " ('ROMEO', 'JULIET'): 5,\n",
       " ('ROMEO', 'TYBALT'): 3,\n",
       " ('ROMEO', 'CAPULET’S COUSIN'): 1,\n",
       " ('ROMEO', 'NURSE'): 5,\n",
       " ('ROMEO', 'PETER'): 1,\n",
       " ('ROMEO', 'SAMPSON'): 1,\n",
       " ('ROMEO', 'GREGORY'): 1,\n",
       " ('ROMEO', 'FRIAR LAWRENCE'): 4,\n",
       " ('ROMEO', 'CHORUS'): 0,\n",
       " ('ROMEO', 'SERVANT'): 2,\n",
       " ('BENVOLIO', 'ABRAM'): 1,\n",
       " ('BENVOLIO', 'BALTHASAR'): 0,\n",
       " ('BENVOLIO', 'CAPULET'): 4,\n",
       " ('BENVOLIO', 'LADY CAPULET'): 2,\n",
       " ('BENVOLIO', 'JULIET'): 1,\n",
       " ('BENVOLIO', 'TYBALT'): 3,\n",
       " ('BENVOLIO', 'CAPULET’S COUSIN'): 1,\n",
       " ('BENVOLIO', 'NURSE'): 2,\n",
       " ('BENVOLIO', 'PETER'): 1,\n",
       " ('BENVOLIO', 'SAMPSON'): 1,\n",
       " ('BENVOLIO', 'GREGORY'): 1,\n",
       " ('BENVOLIO', 'FRIAR LAWRENCE'): 0,\n",
       " ('BENVOLIO', 'CHORUS'): 0,\n",
       " ('BENVOLIO', 'SERVANT'): 2,\n",
       " ('ABRAM', 'BALTHASAR'): 0,\n",
       " ('ABRAM', 'CAPULET'): 1,\n",
       " ('ABRAM', 'LADY CAPULET'): 1,\n",
       " ('ABRAM', 'JULIET'): 0,\n",
       " ('ABRAM', 'TYBALT'): 1,\n",
       " ('ABRAM', 'CAPULET’S COUSIN'): 0,\n",
       " ('ABRAM', 'NURSE'): 0,\n",
       " ('ABRAM', 'PETER'): 0,\n",
       " ('ABRAM', 'SAMPSON'): 1,\n",
       " ('ABRAM', 'GREGORY'): 1,\n",
       " ('ABRAM', 'FRIAR LAWRENCE'): 0,\n",
       " ('ABRAM', 'CHORUS'): 0,\n",
       " ('ABRAM', 'SERVANT'): 0,\n",
       " ('BALTHASAR', 'CAPULET'): 1,\n",
       " ('BALTHASAR', 'LADY CAPULET'): 1,\n",
       " ('BALTHASAR', 'JULIET'): 1,\n",
       " ('BALTHASAR', 'TYBALT'): 0,\n",
       " ('BALTHASAR', 'CAPULET’S COUSIN'): 0,\n",
       " ('BALTHASAR', 'NURSE'): 0,\n",
       " ('BALTHASAR', 'PETER'): 0,\n",
       " ('BALTHASAR', 'SAMPSON'): 0,\n",
       " ('BALTHASAR', 'GREGORY'): 0,\n",
       " ('BALTHASAR', 'FRIAR LAWRENCE'): 1,\n",
       " ('BALTHASAR', 'CHORUS'): 0,\n",
       " ('BALTHASAR', 'SERVANT'): 0,\n",
       " ('CAPULET', 'LADY CAPULET'): 10,\n",
       " ('CAPULET', 'JULIET'): 6,\n",
       " ('CAPULET', 'TYBALT'): 3,\n",
       " ('CAPULET', 'CAPULET’S COUSIN'): 1,\n",
       " ('CAPULET', 'NURSE'): 6,\n",
       " ('CAPULET', 'PETER'): 1,\n",
       " ('CAPULET', 'SAMPSON'): 1,\n",
       " ('CAPULET', 'GREGORY'): 1,\n",
       " ('CAPULET', 'FRIAR LAWRENCE'): 2,\n",
       " ('CAPULET', 'CHORUS'): 0,\n",
       " ('CAPULET', 'SERVANT'): 5,\n",
       " ('LADY CAPULET', 'JULIET'): 5,\n",
       " ('LADY CAPULET', 'TYBALT'): 2,\n",
       " ('LADY CAPULET', 'CAPULET’S COUSIN'): 0,\n",
       " ('LADY CAPULET', 'NURSE'): 5,\n",
       " ('LADY CAPULET', 'PETER'): 1,\n",
       " ('LADY CAPULET', 'SAMPSON'): 1,\n",
       " ('LADY CAPULET', 'GREGORY'): 1,\n",
       " ('LADY CAPULET', 'FRIAR LAWRENCE'): 2,\n",
       " ('LADY CAPULET', 'CHORUS'): 0,\n",
       " ('LADY CAPULET', 'SERVANT'): 3,\n",
       " ('JULIET', 'TYBALT'): 1,\n",
       " ('JULIET', 'CAPULET’S COUSIN'): 1,\n",
       " ('JULIET', 'NURSE'): 7,\n",
       " ('JULIET', 'PETER'): 0,\n",
       " ('JULIET', 'SAMPSON'): 0,\n",
       " ('JULIET', 'GREGORY'): 0,\n",
       " ('JULIET', 'FRIAR LAWRENCE'): 3,\n",
       " ('JULIET', 'CHORUS'): 0,\n",
       " ('JULIET', 'SERVANT'): 3,\n",
       " ('TYBALT', 'CAPULET’S COUSIN'): 1,\n",
       " ('TYBALT', 'NURSE'): 1,\n",
       " ('TYBALT', 'PETER'): 0,\n",
       " ('TYBALT', 'SAMPSON'): 1,\n",
       " ('TYBALT', 'GREGORY'): 1,\n",
       " ('TYBALT', 'FRIAR LAWRENCE'): 0,\n",
       " ('TYBALT', 'CHORUS'): 0,\n",
       " ('TYBALT', 'SERVANT'): 1,\n",
       " ('CAPULET’S COUSIN', 'NURSE'): 1,\n",
       " ('CAPULET’S COUSIN', 'PETER'): 0,\n",
       " ('CAPULET’S COUSIN', 'SAMPSON'): 0,\n",
       " ('CAPULET’S COUSIN', 'GREGORY'): 0,\n",
       " ('CAPULET’S COUSIN', 'FRIAR LAWRENCE'): 0,\n",
       " ('CAPULET’S COUSIN', 'CHORUS'): 0,\n",
       " ('CAPULET’S COUSIN', 'SERVANT'): 1,\n",
       " ('NURSE', 'PETER'): 2,\n",
       " ('NURSE', 'SAMPSON'): 0,\n",
       " ('NURSE', 'GREGORY'): 0,\n",
       " ('NURSE', 'FRIAR LAWRENCE'): 2,\n",
       " ('NURSE', 'CHORUS'): 0,\n",
       " ('NURSE', 'SERVANT'): 4,\n",
       " ('PETER', 'SAMPSON'): 0,\n",
       " ('PETER', 'GREGORY'): 0,\n",
       " ('PETER', 'FRIAR LAWRENCE'): 1,\n",
       " ('PETER', 'CHORUS'): 0,\n",
       " ('PETER', 'SERVANT'): 0,\n",
       " ('SAMPSON', 'GREGORY'): 1,\n",
       " ('SAMPSON', 'FRIAR LAWRENCE'): 0,\n",
       " ('SAMPSON', 'CHORUS'): 0,\n",
       " ('SAMPSON', 'SERVANT'): 0,\n",
       " ('GREGORY', 'FRIAR LAWRENCE'): 0,\n",
       " ('GREGORY', 'CHORUS'): 0,\n",
       " ('GREGORY', 'SERVANT'): 0,\n",
       " ('FRIAR LAWRENCE', 'CHORUS'): 0,\n",
       " ('FRIAR LAWRENCE', 'SERVANT'): 0,\n",
       " ('CHORUS', 'SERVANT'): 0}"
      ]
     },
     "execution_count": 11,
     "metadata": {},
     "output_type": "execute_result"
    }
   ],
   "source": [
    "connections"
   ]
  },
  {
   "cell_type": "code",
   "execution_count": 12,
   "id": "e835e7d2-90dd-4809-bb15-f96728c4cf60",
   "metadata": {},
   "outputs": [
    {
     "name": "stdout",
     "output_type": "stream",
     "text": [
      "ESCALUS 0\n",
      "MERCUTIO 4\n",
      "PARIS 5\n",
      "MONTAGUE 3\n",
      "LADY MONTAGUE 1\n",
      "ROMEO 14\n",
      "BENVOLIO 7\n",
      "ABRAM 1\n",
      "BALTHASAR 2\n",
      "CAPULET 12\n",
      "LADY CAPULET 10\n",
      "JULIET 11\n",
      "TYBALT 3\n",
      "CAPULET’S COUSIN 1\n",
      "NURSE 11\n",
      "PETER 2\n",
      "SAMPSON 1\n",
      "GREGORY 1\n",
      "FRIAR LAWRENCE 7\n",
      "CHORUS 0\n",
      "SERVANT 5\n"
     ]
    }
   ],
   "source": [
    "for k,v in charnum.items():\n",
    "    print(k,v)"
   ]
  },
  {
   "cell_type": "markdown",
   "id": "131889a0-0e3b-4e72-bf38-82452fd949a7",
   "metadata": {},
   "source": [
    "Now, I am going to work on formatting the data for the graph, similar to what we did in lecture. I will keep the information the same, where the id will be the name of the person, the label is a normal case version of their name, and the size is the number charnum (number of connections with other characters). I also include the weights from connectiions, which represent the edges and their weights. "
   ]
  },
  {
   "cell_type": "code",
   "execution_count": 21,
   "id": "424d71a8-5044-4438-a9b7-9e31d14a7f3f",
   "metadata": {
    "tags": []
   },
   "outputs": [
    {
     "data": {
      "text/plain": [
       "[{'data': {'id': 'ESCALUS', 'label': 'Escalus', 'size': '0'}},\n",
       " {'data': {'id': 'MERCUTIO', 'label': 'Mercutio', 'size': '4'}},\n",
       " {'data': {'id': 'PARIS', 'label': 'Paris', 'size': '5'}},\n",
       " {'data': {'id': 'MONTAGUE', 'label': 'Montague', 'size': '3'}},\n",
       " {'data': {'id': 'LADY MONTAGUE', 'label': 'Lady Montague', 'size': '1'}},\n",
       " {'data': {'id': 'ROMEO', 'label': 'Romeo', 'size': '14'}},\n",
       " {'data': {'id': 'BENVOLIO', 'label': 'Benvolio', 'size': '7'}},\n",
       " {'data': {'id': 'ABRAM', 'label': 'Abram', 'size': '1'}},\n",
       " {'data': {'id': 'BALTHASAR', 'label': 'Balthasar', 'size': '2'}},\n",
       " {'data': {'id': 'CAPULET', 'label': 'Capulet', 'size': '12'}},\n",
       " {'data': {'id': 'LADY CAPULET', 'label': 'Lady Capulet', 'size': '10'}},\n",
       " {'data': {'id': 'JULIET', 'label': 'Juliet', 'size': '11'}},\n",
       " {'data': {'id': 'TYBALT', 'label': 'Tybalt', 'size': '3'}},\n",
       " {'data': {'id': 'CAPULET’S COUSIN',\n",
       "   'label': 'Capulet’S Cousin',\n",
       "   'size': '1'}},\n",
       " {'data': {'id': 'NURSE', 'label': 'Nurse', 'size': '11'}},\n",
       " {'data': {'id': 'PETER', 'label': 'Peter', 'size': '2'}},\n",
       " {'data': {'id': 'SAMPSON', 'label': 'Sampson', 'size': '1'}},\n",
       " {'data': {'id': 'GREGORY', 'label': 'Gregory', 'size': '1'}},\n",
       " {'data': {'id': 'FRIAR LAWRENCE', 'label': 'Friar Lawrence', 'size': '7'}},\n",
       " {'data': {'id': 'CHORUS', 'label': 'Chorus', 'size': '0'}},\n",
       " {'data': {'id': 'SERVANT', 'label': 'Servant', 'size': '5'}},\n",
       " {'data': {'source': 'MERCUTIO', 'target': 'MONTAGUE', 'weight': 1}},\n",
       " {'data': {'source': 'MERCUTIO', 'target': 'ROMEO', 'weight': 4}},\n",
       " {'data': {'source': 'MERCUTIO', 'target': 'BENVOLIO', 'weight': 4}},\n",
       " {'data': {'source': 'MERCUTIO', 'target': 'CAPULET', 'weight': 1}},\n",
       " {'data': {'source': 'MERCUTIO', 'target': 'LADY CAPULET', 'weight': 1}},\n",
       " {'data': {'source': 'MERCUTIO', 'target': 'TYBALT', 'weight': 1}},\n",
       " {'data': {'source': 'MERCUTIO', 'target': 'NURSE', 'weight': 1}},\n",
       " {'data': {'source': 'MERCUTIO', 'target': 'PETER', 'weight': 1}},\n",
       " {'data': {'source': 'PARIS', 'target': 'MONTAGUE', 'weight': 1}},\n",
       " {'data': {'source': 'PARIS', 'target': 'ROMEO', 'weight': 2}},\n",
       " {'data': {'source': 'PARIS', 'target': 'BENVOLIO', 'weight': 1}},\n",
       " {'data': {'source': 'PARIS', 'target': 'BALTHASAR', 'weight': 1}},\n",
       " {'data': {'source': 'PARIS', 'target': 'CAPULET', 'weight': 4}},\n",
       " {'data': {'source': 'PARIS', 'target': 'LADY CAPULET', 'weight': 3}},\n",
       " {'data': {'source': 'PARIS', 'target': 'JULIET', 'weight': 2}},\n",
       " {'data': {'source': 'PARIS', 'target': 'NURSE', 'weight': 1}},\n",
       " {'data': {'source': 'PARIS', 'target': 'PETER', 'weight': 1}},\n",
       " {'data': {'source': 'PARIS', 'target': 'FRIAR LAWRENCE', 'weight': 3}},\n",
       " {'data': {'source': 'PARIS', 'target': 'SERVANT', 'weight': 1}},\n",
       " {'data': {'source': 'MONTAGUE', 'target': 'LADY MONTAGUE', 'weight': 1}},\n",
       " {'data': {'source': 'MONTAGUE', 'target': 'ROMEO', 'weight': 3}},\n",
       " {'data': {'source': 'MONTAGUE', 'target': 'BENVOLIO', 'weight': 2}},\n",
       " {'data': {'source': 'MONTAGUE', 'target': 'ABRAM', 'weight': 1}},\n",
       " {'data': {'source': 'MONTAGUE', 'target': 'BALTHASAR', 'weight': 1}},\n",
       " {'data': {'source': 'MONTAGUE', 'target': 'CAPULET', 'weight': 3}},\n",
       " {'data': {'source': 'MONTAGUE', 'target': 'LADY CAPULET', 'weight': 3}},\n",
       " {'data': {'source': 'MONTAGUE', 'target': 'JULIET', 'weight': 1}},\n",
       " {'data': {'source': 'MONTAGUE', 'target': 'TYBALT', 'weight': 2}},\n",
       " {'data': {'source': 'MONTAGUE', 'target': 'SAMPSON', 'weight': 1}},\n",
       " {'data': {'source': 'MONTAGUE', 'target': 'GREGORY', 'weight': 1}},\n",
       " {'data': {'source': 'MONTAGUE', 'target': 'FRIAR LAWRENCE', 'weight': 1}},\n",
       " {'data': {'source': 'LADY MONTAGUE', 'target': 'ROMEO', 'weight': 1}},\n",
       " {'data': {'source': 'LADY MONTAGUE', 'target': 'BENVOLIO', 'weight': 1}},\n",
       " {'data': {'source': 'LADY MONTAGUE', 'target': 'ABRAM', 'weight': 1}},\n",
       " {'data': {'source': 'LADY MONTAGUE', 'target': 'CAPULET', 'weight': 1}},\n",
       " {'data': {'source': 'LADY MONTAGUE', 'target': 'LADY CAPULET', 'weight': 1}},\n",
       " {'data': {'source': 'LADY MONTAGUE', 'target': 'TYBALT', 'weight': 1}},\n",
       " {'data': {'source': 'LADY MONTAGUE', 'target': 'SAMPSON', 'weight': 1}},\n",
       " {'data': {'source': 'LADY MONTAGUE', 'target': 'GREGORY', 'weight': 1}},\n",
       " {'data': {'source': 'ROMEO', 'target': 'BENVOLIO', 'weight': 7}},\n",
       " {'data': {'source': 'ROMEO', 'target': 'ABRAM', 'weight': 1}},\n",
       " {'data': {'source': 'ROMEO', 'target': 'BALTHASAR', 'weight': 2}},\n",
       " {'data': {'source': 'ROMEO', 'target': 'CAPULET', 'weight': 6}},\n",
       " {'data': {'source': 'ROMEO', 'target': 'LADY CAPULET', 'weight': 4}},\n",
       " {'data': {'source': 'ROMEO', 'target': 'JULIET', 'weight': 5}},\n",
       " {'data': {'source': 'ROMEO', 'target': 'TYBALT', 'weight': 3}},\n",
       " {'data': {'source': 'ROMEO', 'target': 'CAPULET’S COUSIN', 'weight': 1}},\n",
       " {'data': {'source': 'ROMEO', 'target': 'NURSE', 'weight': 5}},\n",
       " {'data': {'source': 'ROMEO', 'target': 'PETER', 'weight': 1}},\n",
       " {'data': {'source': 'ROMEO', 'target': 'SAMPSON', 'weight': 1}},\n",
       " {'data': {'source': 'ROMEO', 'target': 'GREGORY', 'weight': 1}},\n",
       " {'data': {'source': 'ROMEO', 'target': 'FRIAR LAWRENCE', 'weight': 4}},\n",
       " {'data': {'source': 'ROMEO', 'target': 'SERVANT', 'weight': 2}},\n",
       " {'data': {'source': 'BENVOLIO', 'target': 'ABRAM', 'weight': 1}},\n",
       " {'data': {'source': 'BENVOLIO', 'target': 'CAPULET', 'weight': 4}},\n",
       " {'data': {'source': 'BENVOLIO', 'target': 'LADY CAPULET', 'weight': 2}},\n",
       " {'data': {'source': 'BENVOLIO', 'target': 'JULIET', 'weight': 1}},\n",
       " {'data': {'source': 'BENVOLIO', 'target': 'TYBALT', 'weight': 3}},\n",
       " {'data': {'source': 'BENVOLIO', 'target': 'CAPULET’S COUSIN', 'weight': 1}},\n",
       " {'data': {'source': 'BENVOLIO', 'target': 'NURSE', 'weight': 2}},\n",
       " {'data': {'source': 'BENVOLIO', 'target': 'PETER', 'weight': 1}},\n",
       " {'data': {'source': 'BENVOLIO', 'target': 'SAMPSON', 'weight': 1}},\n",
       " {'data': {'source': 'BENVOLIO', 'target': 'GREGORY', 'weight': 1}},\n",
       " {'data': {'source': 'BENVOLIO', 'target': 'SERVANT', 'weight': 2}},\n",
       " {'data': {'source': 'ABRAM', 'target': 'CAPULET', 'weight': 1}},\n",
       " {'data': {'source': 'ABRAM', 'target': 'LADY CAPULET', 'weight': 1}},\n",
       " {'data': {'source': 'ABRAM', 'target': 'TYBALT', 'weight': 1}},\n",
       " {'data': {'source': 'ABRAM', 'target': 'SAMPSON', 'weight': 1}},\n",
       " {'data': {'source': 'ABRAM', 'target': 'GREGORY', 'weight': 1}},\n",
       " {'data': {'source': 'BALTHASAR', 'target': 'CAPULET', 'weight': 1}},\n",
       " {'data': {'source': 'BALTHASAR', 'target': 'LADY CAPULET', 'weight': 1}},\n",
       " {'data': {'source': 'BALTHASAR', 'target': 'JULIET', 'weight': 1}},\n",
       " {'data': {'source': 'BALTHASAR', 'target': 'FRIAR LAWRENCE', 'weight': 1}},\n",
       " {'data': {'source': 'CAPULET', 'target': 'LADY CAPULET', 'weight': 10}},\n",
       " {'data': {'source': 'CAPULET', 'target': 'JULIET', 'weight': 6}},\n",
       " {'data': {'source': 'CAPULET', 'target': 'TYBALT', 'weight': 3}},\n",
       " {'data': {'source': 'CAPULET', 'target': 'CAPULET’S COUSIN', 'weight': 1}},\n",
       " {'data': {'source': 'CAPULET', 'target': 'NURSE', 'weight': 6}},\n",
       " {'data': {'source': 'CAPULET', 'target': 'PETER', 'weight': 1}},\n",
       " {'data': {'source': 'CAPULET', 'target': 'SAMPSON', 'weight': 1}},\n",
       " {'data': {'source': 'CAPULET', 'target': 'GREGORY', 'weight': 1}},\n",
       " {'data': {'source': 'CAPULET', 'target': 'FRIAR LAWRENCE', 'weight': 2}},\n",
       " {'data': {'source': 'CAPULET', 'target': 'SERVANT', 'weight': 5}},\n",
       " {'data': {'source': 'LADY CAPULET', 'target': 'JULIET', 'weight': 5}},\n",
       " {'data': {'source': 'LADY CAPULET', 'target': 'TYBALT', 'weight': 2}},\n",
       " {'data': {'source': 'LADY CAPULET', 'target': 'NURSE', 'weight': 5}},\n",
       " {'data': {'source': 'LADY CAPULET', 'target': 'PETER', 'weight': 1}},\n",
       " {'data': {'source': 'LADY CAPULET', 'target': 'SAMPSON', 'weight': 1}},\n",
       " {'data': {'source': 'LADY CAPULET', 'target': 'GREGORY', 'weight': 1}},\n",
       " {'data': {'source': 'LADY CAPULET', 'target': 'FRIAR LAWRENCE', 'weight': 2}},\n",
       " {'data': {'source': 'LADY CAPULET', 'target': 'SERVANT', 'weight': 3}},\n",
       " {'data': {'source': 'JULIET', 'target': 'TYBALT', 'weight': 1}},\n",
       " {'data': {'source': 'JULIET', 'target': 'CAPULET’S COUSIN', 'weight': 1}},\n",
       " {'data': {'source': 'JULIET', 'target': 'NURSE', 'weight': 7}},\n",
       " {'data': {'source': 'JULIET', 'target': 'FRIAR LAWRENCE', 'weight': 3}},\n",
       " {'data': {'source': 'JULIET', 'target': 'SERVANT', 'weight': 3}},\n",
       " {'data': {'source': 'TYBALT', 'target': 'CAPULET’S COUSIN', 'weight': 1}},\n",
       " {'data': {'source': 'TYBALT', 'target': 'NURSE', 'weight': 1}},\n",
       " {'data': {'source': 'TYBALT', 'target': 'SAMPSON', 'weight': 1}},\n",
       " {'data': {'source': 'TYBALT', 'target': 'GREGORY', 'weight': 1}},\n",
       " {'data': {'source': 'TYBALT', 'target': 'SERVANT', 'weight': 1}},\n",
       " {'data': {'source': 'CAPULET’S COUSIN', 'target': 'NURSE', 'weight': 1}},\n",
       " {'data': {'source': 'CAPULET’S COUSIN', 'target': 'SERVANT', 'weight': 1}},\n",
       " {'data': {'source': 'NURSE', 'target': 'PETER', 'weight': 2}},\n",
       " {'data': {'source': 'NURSE', 'target': 'FRIAR LAWRENCE', 'weight': 2}},\n",
       " {'data': {'source': 'NURSE', 'target': 'SERVANT', 'weight': 4}},\n",
       " {'data': {'source': 'PETER', 'target': 'FRIAR LAWRENCE', 'weight': 1}},\n",
       " {'data': {'source': 'SAMPSON', 'target': 'GREGORY', 'weight': 1}}]"
      ]
     },
     "execution_count": 21,
     "metadata": {},
     "output_type": "execute_result"
    }
   ],
   "source": [
    "graphitems = []\n",
    "\n",
    "for k,v in charnum.items():\n",
    "    dashnode = {'data': {'id': k,\n",
    "                         'label': k.title(),\n",
    "                         'size': str(v)}}\n",
    "    graphitems.append(dashnode)\n",
    "    \n",
    "for k,v in connections.items():\n",
    "    if v != 0:\n",
    "        dashedge = {'data': {'source': k[0],\n",
    "                             'target': k[1],\n",
    "                             'weight': v}}\n",
    "        graphitems.append(dashedge)\n",
    "    \n",
    "graphitems"
   ]
  },
  {
   "cell_type": "markdown",
   "id": "50523960-67f0-4e10-a3ba-6582c64a6fc0",
   "metadata": {},
   "source": [
    "For getting JupyterDash to work."
   ]
  },
  {
   "cell_type": "code",
   "execution_count": 22,
   "id": "6bb9edc5-b659-4e42-a489-debea6a11ae9",
   "metadata": {},
   "outputs": [],
   "source": [
    "import dash\n",
    "import dash_cytoscape as cyto\n",
    "from dash import html, dcc\n",
    "from dash.dependencies import Input, Output\n",
    "from jupyter_dash import JupyterDash\n",
    "from jupyter_dash.comms import _send_jupyter_config_comm_request"
   ]
  },
  {
   "cell_type": "code",
   "execution_count": 23,
   "id": "9d8bc7cf-a543-42c5-8a53-e9f4a3eed0b0",
   "metadata": {},
   "outputs": [],
   "source": [
    "_send_jupyter_config_comm_request()"
   ]
  },
  {
   "cell_type": "code",
   "execution_count": 25,
   "id": "7162ff3f-3d54-43f8-b707-96f7e715063a",
   "metadata": {},
   "outputs": [],
   "source": [
    "JupyterDash.infer_jupyter_proxy_config()"
   ]
  },
  {
   "cell_type": "code",
   "execution_count": 37,
   "id": "f125fb97-e309-48a6-82a1-7e823499f42f",
   "metadata": {},
   "outputs": [
    {
     "name": "stdout",
     "output_type": "stream",
     "text": [
      "Dash app running on https://jupyter.idre.ucla.edu/user/spurthi.rallapalli@gmail.com/proxy/8050/\n"
     ]
    }
   ],
   "source": [
    "# Code from lecture to graph the information, used cytoscape.\n",
    "# Minor adjustments, changing edge colors and increasing height of view\n",
    "# Changed the edges weight to make them more apparent, from data(str(int(weight)/10))  -> data(weight)\n",
    "\n",
    "app = JupyterDash(__name__)\n",
    "\n",
    "app.layout = html.Div([\n",
    "    cyto.Cytoscape(\n",
    "        layout={'name': 'cose'},\n",
    "        elements=graphitems,\n",
    "        style={'width': '100%', 'height': '1000px'},\n",
    "        stylesheet=[\n",
    "            {\n",
    "                'selector': 'node',\n",
    "                'style': {\n",
    "                    'content':'data(label)',\n",
    "                    'text-halign':'center',\n",
    "                    'text-valign':'center',\n",
    "                    'width': 'data(size)',\n",
    "                    'height': 'data(size)',\n",
    "                    'font-size':4,\n",
    "                    'color': 'blue',\n",
    "                    'text-outline-color': 'white',\n",
    "                    'text-outline-width': 0.2,\n",
    "                    'shape':'circle'\n",
    "                }\n",
    "            },\n",
    "            {\n",
    "                'selector':'edge',\n",
    "                'style': {\n",
    "                    'width':'data(weight)',\n",
    "                    'line-color': 'black',\n",
    "                  }\n",
    "            },\n",
    "        ]\n",
    "    )\n",
    "])\n",
    "\n",
    "app.run_server(debug=True)"
   ]
  },
  {
   "cell_type": "markdown",
   "id": "487b5a04-4bd4-45ab-a12c-0fa9d62b9325",
   "metadata": {},
   "source": [
    "Based on the visualization that came up, I can see that Romeo, Capulet, and Juliet (and maybe the nurse) seem to have the most number of connections (and are therefore the \"most important\") since their circles are larger and the edges are thicker. In order to confirm this, I will use some of the centrality methods described in lecture. "
   ]
  },
  {
   "cell_type": "code",
   "execution_count": 38,
   "id": "8d95c61f-6b4a-4904-8f11-d28615626ecb",
   "metadata": {},
   "outputs": [],
   "source": [
    "import networkx as nx\n",
    "import matplotlib.pyplot as plt"
   ]
  },
  {
   "cell_type": "code",
   "execution_count": 39,
   "id": "6190ec0b-7c49-4d27-a5e9-c8baaf0515c4",
   "metadata": {},
   "outputs": [
    {
     "data": {
      "text/plain": [
       "[('MERCUTIO', 'MONTAGUE'),\n",
       " ('MERCUTIO', 'ROMEO'),\n",
       " ('MERCUTIO', 'BENVOLIO'),\n",
       " ('MERCUTIO', 'CAPULET'),\n",
       " ('MERCUTIO', 'LADY CAPULET'),\n",
       " ('MERCUTIO', 'TYBALT'),\n",
       " ('MERCUTIO', 'NURSE'),\n",
       " ('MERCUTIO', 'PETER'),\n",
       " ('PARIS', 'MONTAGUE'),\n",
       " ('PARIS', 'ROMEO'),\n",
       " ('PARIS', 'BENVOLIO'),\n",
       " ('PARIS', 'BALTHASAR'),\n",
       " ('PARIS', 'CAPULET'),\n",
       " ('PARIS', 'LADY CAPULET'),\n",
       " ('PARIS', 'JULIET'),\n",
       " ('PARIS', 'NURSE'),\n",
       " ('PARIS', 'PETER'),\n",
       " ('PARIS', 'FRIAR LAWRENCE'),\n",
       " ('PARIS', 'SERVANT'),\n",
       " ('MONTAGUE', 'LADY MONTAGUE'),\n",
       " ('MONTAGUE', 'ROMEO'),\n",
       " ('MONTAGUE', 'BENVOLIO'),\n",
       " ('MONTAGUE', 'ABRAM'),\n",
       " ('MONTAGUE', 'BALTHASAR'),\n",
       " ('MONTAGUE', 'CAPULET'),\n",
       " ('MONTAGUE', 'LADY CAPULET'),\n",
       " ('MONTAGUE', 'JULIET'),\n",
       " ('MONTAGUE', 'TYBALT'),\n",
       " ('MONTAGUE', 'SAMPSON'),\n",
       " ('MONTAGUE', 'GREGORY'),\n",
       " ('MONTAGUE', 'FRIAR LAWRENCE'),\n",
       " ('LADY MONTAGUE', 'ROMEO'),\n",
       " ('LADY MONTAGUE', 'BENVOLIO'),\n",
       " ('LADY MONTAGUE', 'ABRAM'),\n",
       " ('LADY MONTAGUE', 'CAPULET'),\n",
       " ('LADY MONTAGUE', 'LADY CAPULET'),\n",
       " ('LADY MONTAGUE', 'TYBALT'),\n",
       " ('LADY MONTAGUE', 'SAMPSON'),\n",
       " ('LADY MONTAGUE', 'GREGORY'),\n",
       " ('ROMEO', 'BENVOLIO'),\n",
       " ('ROMEO', 'ABRAM'),\n",
       " ('ROMEO', 'BALTHASAR'),\n",
       " ('ROMEO', 'CAPULET'),\n",
       " ('ROMEO', 'LADY CAPULET'),\n",
       " ('ROMEO', 'JULIET'),\n",
       " ('ROMEO', 'TYBALT'),\n",
       " ('ROMEO', 'CAPULET’S COUSIN'),\n",
       " ('ROMEO', 'NURSE'),\n",
       " ('ROMEO', 'PETER'),\n",
       " ('ROMEO', 'SAMPSON'),\n",
       " ('ROMEO', 'GREGORY'),\n",
       " ('ROMEO', 'FRIAR LAWRENCE'),\n",
       " ('ROMEO', 'SERVANT'),\n",
       " ('BENVOLIO', 'ABRAM'),\n",
       " ('BENVOLIO', 'CAPULET'),\n",
       " ('BENVOLIO', 'LADY CAPULET'),\n",
       " ('BENVOLIO', 'JULIET'),\n",
       " ('BENVOLIO', 'TYBALT'),\n",
       " ('BENVOLIO', 'CAPULET’S COUSIN'),\n",
       " ('BENVOLIO', 'NURSE'),\n",
       " ('BENVOLIO', 'PETER'),\n",
       " ('BENVOLIO', 'SAMPSON'),\n",
       " ('BENVOLIO', 'GREGORY'),\n",
       " ('BENVOLIO', 'SERVANT'),\n",
       " ('ABRAM', 'CAPULET'),\n",
       " ('ABRAM', 'LADY CAPULET'),\n",
       " ('ABRAM', 'TYBALT'),\n",
       " ('ABRAM', 'SAMPSON'),\n",
       " ('ABRAM', 'GREGORY'),\n",
       " ('BALTHASAR', 'CAPULET'),\n",
       " ('BALTHASAR', 'LADY CAPULET'),\n",
       " ('BALTHASAR', 'JULIET'),\n",
       " ('BALTHASAR', 'FRIAR LAWRENCE'),\n",
       " ('CAPULET', 'LADY CAPULET'),\n",
       " ('CAPULET', 'JULIET'),\n",
       " ('CAPULET', 'TYBALT'),\n",
       " ('CAPULET', 'CAPULET’S COUSIN'),\n",
       " ('CAPULET', 'NURSE'),\n",
       " ('CAPULET', 'PETER'),\n",
       " ('CAPULET', 'SAMPSON'),\n",
       " ('CAPULET', 'GREGORY'),\n",
       " ('CAPULET', 'FRIAR LAWRENCE'),\n",
       " ('CAPULET', 'SERVANT'),\n",
       " ('LADY CAPULET', 'JULIET'),\n",
       " ('LADY CAPULET', 'TYBALT'),\n",
       " ('LADY CAPULET', 'NURSE'),\n",
       " ('LADY CAPULET', 'PETER'),\n",
       " ('LADY CAPULET', 'SAMPSON'),\n",
       " ('LADY CAPULET', 'GREGORY'),\n",
       " ('LADY CAPULET', 'FRIAR LAWRENCE'),\n",
       " ('LADY CAPULET', 'SERVANT'),\n",
       " ('JULIET', 'TYBALT'),\n",
       " ('JULIET', 'CAPULET’S COUSIN'),\n",
       " ('JULIET', 'NURSE'),\n",
       " ('JULIET', 'FRIAR LAWRENCE'),\n",
       " ('JULIET', 'SERVANT'),\n",
       " ('TYBALT', 'CAPULET’S COUSIN'),\n",
       " ('TYBALT', 'NURSE'),\n",
       " ('TYBALT', 'SAMPSON'),\n",
       " ('TYBALT', 'GREGORY'),\n",
       " ('TYBALT', 'SERVANT'),\n",
       " ('CAPULET’S COUSIN', 'NURSE'),\n",
       " ('CAPULET’S COUSIN', 'SERVANT'),\n",
       " ('NURSE', 'PETER'),\n",
       " ('NURSE', 'FRIAR LAWRENCE'),\n",
       " ('NURSE', 'SERVANT'),\n",
       " ('PETER', 'FRIAR LAWRENCE'),\n",
       " ('SAMPSON', 'GREGORY')]"
      ]
     },
     "execution_count": 39,
     "metadata": {},
     "output_type": "execute_result"
    }
   ],
   "source": [
    "nxgraphitems = []\n",
    "\n",
    "# for k,v in charnum.items():\n",
    "#     dashnode = k\n",
    "#     graphitems.append(dashnode)\n",
    "\n",
    "for k,v in connections.items():\n",
    "    if v != 0:\n",
    "        dashedge = (k[0],k[1])\n",
    "        nxgraphitems.append(dashedge)\n",
    "    \n",
    "nxgraphitems"
   ]
  },
  {
   "cell_type": "code",
   "execution_count": 40,
   "id": "83ff5faa-4dd4-4550-b39f-d305d90c0cfc",
   "metadata": {},
   "outputs": [],
   "source": [
    "G = nx.Graph()"
   ]
  },
  {
   "cell_type": "code",
   "execution_count": 41,
   "id": "487b79c7-2561-4fd1-9ed4-0a1018d2c047",
   "metadata": {},
   "outputs": [],
   "source": [
    "G.add_edges_from(nxgraphitems)"
   ]
  },
  {
   "cell_type": "code",
   "execution_count": 42,
   "id": "e68b004c-fb83-4b01-a7f4-711a9651b93d",
   "metadata": {},
   "outputs": [
    {
     "data": {
      "text/plain": [
       "NodeView(('MERCUTIO', 'MONTAGUE', 'ROMEO', 'BENVOLIO', 'CAPULET', 'LADY CAPULET', 'TYBALT', 'NURSE', 'PETER', 'PARIS', 'BALTHASAR', 'JULIET', 'FRIAR LAWRENCE', 'SERVANT', 'LADY MONTAGUE', 'ABRAM', 'SAMPSON', 'GREGORY', 'CAPULET’S COUSIN'))"
      ]
     },
     "execution_count": 42,
     "metadata": {},
     "output_type": "execute_result"
    }
   ],
   "source": [
    "G.nodes"
   ]
  },
  {
   "cell_type": "code",
   "execution_count": 43,
   "id": "a73cb059-0118-41d3-881f-c43302deac4d",
   "metadata": {},
   "outputs": [
    {
     "name": "stdout",
     "output_type": "stream",
     "text": [
      "Romeo          : 1.000\n",
      "Capulet        : 1.000\n",
      "Lady Capulet   : 0.944\n",
      "Benvolio       : 0.889\n",
      "Montague       : 0.778\n",
      "Tybalt         : 0.778\n",
      "Nurse          : 0.667\n",
      "Juliet         : 0.667\n",
      "Paris          : 0.611\n",
      "Friar Lawrence : 0.500\n",
      "Servant        : 0.500\n",
      "Lady Montague  : 0.500\n",
      "Abram          : 0.500\n",
      "Sampson        : 0.500\n",
      "Gregory        : 0.500\n",
      "Mercutio       : 0.444\n",
      "Peter          : 0.444\n",
      "Balthasar      : 0.389\n",
      "Capulet’S Cousin: 0.389\n"
     ]
    }
   ],
   "source": [
    "dc = nx.degree_centrality(G)\n",
    "for i in sorted(dc, key=dc.get, reverse=True):\n",
    "    print('{:15s}: {:.3f}'.format(i.title(), dc[i]))"
   ]
  },
  {
   "cell_type": "markdown",
   "id": "3a056dac-5610-4e95-bcd7-23fb367ed673",
   "metadata": {},
   "source": [
    "This analysis seems to mean that Romeo and Capulet are in every scene of Romeo and Juliet (which is interesting, I wasn't actually expecting to see that), and as I guessed have the top two degrees of centrality. "
   ]
  },
  {
   "cell_type": "markdown",
   "id": "537ad240-9c54-40d6-a46c-397d549f92e1",
   "metadata": {},
   "source": [
    "### **Step 3: Finish, save + upload screenshot** Done :) "
   ]
  },
  {
   "cell_type": "markdown",
   "id": "2efc7192-4d47-472a-b175-46c54696703e",
   "metadata": {},
   "source": [
    "Visual is saved in file called Assignment8Visual.png"
   ]
  }
 ],
 "metadata": {
  "kernelspec": {
   "display_name": "Python 3 (ipykernel)",
   "language": "python",
   "name": "python3"
  },
  "language_info": {
   "codemirror_mode": {
    "name": "ipython",
    "version": 3
   },
   "file_extension": ".py",
   "mimetype": "text/x-python",
   "name": "python",
   "nbconvert_exporter": "python",
   "pygments_lexer": "ipython3",
   "version": "3.9.6"
  }
 },
 "nbformat": 4,
 "nbformat_minor": 5
}
